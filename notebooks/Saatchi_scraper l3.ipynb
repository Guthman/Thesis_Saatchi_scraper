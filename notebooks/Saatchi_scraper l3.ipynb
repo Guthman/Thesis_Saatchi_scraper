{
 "cells": [
  {
   "cell_type": "code",
   "execution_count": 15,
   "metadata": {
    "collapsed": true
   },
   "outputs": [],
   "source": [
    "import requests as rq\n",
    "import random\n",
    "import ujson\n",
    "from bs4 import BeautifulSoup\n",
    "from tqdm.auto import tqdm\n",
    "from time import sleep\n",
    "import pandas as pd"
   ]
  },
  {
   "cell_type": "code",
   "execution_count": 5,
   "outputs": [],
   "source": [
    "def get_random_waittime():\n",
    "    waittime = random.weibullvariate(1, 5)/1.5\n",
    "    return waittime"
   ],
   "metadata": {
    "collapsed": false,
    "pycharm": {
     "name": "#%%\n"
    }
   }
  },
  {
   "cell_type": "code",
   "execution_count": 6,
   "outputs": [],
   "source": [
    "headers = {\n",
    "    'User-Agent': 'Mozilla/5.0 (Windows NT 10.0; Win64; x64) AppleWebKit/537.36 (KHTML, like Gecko) '\n",
    "                  'Chrome/89.0.4389.114 Safari/537.36',\n",
    "    'Accept-Language': 'en,en-US;q=0,5',\n",
    "    'Accept': 'text/html,application/xhtml+xml,application/xml;q=0.9,/;q=0.8'\n",
    "}"
   ],
   "metadata": {
    "collapsed": false,
    "pycharm": {
     "name": "#%%\n"
    }
   }
  },
  {
   "cell_type": "code",
   "execution_count": 7,
   "outputs": [],
   "source": [
    "with open('micro_dataset1.json', 'r') as f:\n",
    "  j = f.read()\n",
    "\n",
    "jj = ujson.loads(j)"
   ],
   "metadata": {
    "collapsed": false,
    "pycharm": {
     "name": "#%%\n"
    }
   }
  },
  {
   "cell_type": "code",
   "execution_count": 10,
   "outputs": [
    {
     "data": {
      "text/plain": "  0%|          | 0/15 [00:00<?, ?it/s]",
      "application/vnd.jupyter.widget-view+json": {
       "version_major": 2,
       "version_minor": 0,
       "model_id": "a671b26f0acf4e6691f9c9515ed607aa"
      }
     },
     "metadata": {},
     "output_type": "display_data"
    }
   ],
   "source": [
    "l = []\n",
    "\n",
    "for e in tqdm(jj[:15]):\n",
    "    url = e['ARTWORK_URL']\n",
    "    art_id = e['ART_ID']\n",
    "    page_html = rq.get(url, headers=headers)\n",
    "    while page_html.status_code != 200:\n",
    "        page_html = rq.get(url, headers=headers)\n",
    "        sleep(get_random_waittime())\n",
    "    soup = BeautifulSoup(page_html.content)\n",
    "    j = soup.find('script', {'id': '__NEXT_DATA__'}).contents[0]\n",
    "    j = ujson.loads(j)\n",
    "    views = j['props']['pageProps']['initialState']['page']['data']['artwork']['views']\n",
    "    likes = j['props']['pageProps']['initialState']['page']['data']['artwork']['likes']\n",
    "    # print(views)\n",
    "    l.append({'art_id': art_id, 'artwork_url': url, 'views': views, 'likes': likes})\n",
    "    sleep(get_random_waittime()/4)\n"
   ],
   "metadata": {
    "collapsed": false,
    "pycharm": {
     "name": "#%%\n"
    }
   }
  },
  {
   "cell_type": "code",
   "execution_count": 16,
   "outputs": [
    {
     "data": {
      "text/plain": "   art_id                                        artwork_url  views  likes\n0  893689  https://www.saatchiart.com/art/Painting-untitl...   1164     16\n1  877165  https://www.saatchiart.com/art/Painting-Cai-Gu...    578      4\n2  854554  https://www.saatchiart.com/art/Painting-La-Sos...    435      0\n3  846988  https://www.saatchiart.com/art/Painting-untitl...   1556     11\n4  846977  https://www.saatchiart.com/art/Painting-grip/7...   1253      8",
      "text/html": "<div>\n<style scoped>\n    .dataframe tbody tr th:only-of-type {\n        vertical-align: middle;\n    }\n\n    .dataframe tbody tr th {\n        vertical-align: top;\n    }\n\n    .dataframe thead th {\n        text-align: right;\n    }\n</style>\n<table border=\"1\" class=\"dataframe\">\n  <thead>\n    <tr style=\"text-align: right;\">\n      <th></th>\n      <th>art_id</th>\n      <th>artwork_url</th>\n      <th>views</th>\n      <th>likes</th>\n    </tr>\n  </thead>\n  <tbody>\n    <tr>\n      <th>0</th>\n      <td>893689</td>\n      <td>https://www.saatchiart.com/art/Painting-untitl...</td>\n      <td>1164</td>\n      <td>16</td>\n    </tr>\n    <tr>\n      <th>1</th>\n      <td>877165</td>\n      <td>https://www.saatchiart.com/art/Painting-Cai-Gu...</td>\n      <td>578</td>\n      <td>4</td>\n    </tr>\n    <tr>\n      <th>2</th>\n      <td>854554</td>\n      <td>https://www.saatchiart.com/art/Painting-La-Sos...</td>\n      <td>435</td>\n      <td>0</td>\n    </tr>\n    <tr>\n      <th>3</th>\n      <td>846988</td>\n      <td>https://www.saatchiart.com/art/Painting-untitl...</td>\n      <td>1556</td>\n      <td>11</td>\n    </tr>\n    <tr>\n      <th>4</th>\n      <td>846977</td>\n      <td>https://www.saatchiart.com/art/Painting-grip/7...</td>\n      <td>1253</td>\n      <td>8</td>\n    </tr>\n  </tbody>\n</table>\n</div>"
     },
     "execution_count": 16,
     "metadata": {},
     "output_type": "execute_result"
    }
   ],
   "source": [
    "df = pd.DataFrame.from_records(l)\n",
    "df.head()"
   ],
   "metadata": {
    "collapsed": false,
    "pycharm": {
     "name": "#%%\n"
    }
   }
  },
  {
   "cell_type": "code",
   "execution_count": 17,
   "outputs": [],
   "source": [
    "df.to_csv('d.csv', index=False)"
   ],
   "metadata": {
    "collapsed": false,
    "pycharm": {
     "name": "#%%\n"
    }
   }
  },
  {
   "cell_type": "code",
   "execution_count": null,
   "outputs": [],
   "source": [],
   "metadata": {
    "collapsed": false,
    "pycharm": {
     "name": "#%%\n"
    }
   }
  }
 ],
 "metadata": {
  "kernelspec": {
   "display_name": "Python 3",
   "language": "python",
   "name": "python3"
  },
  "language_info": {
   "codemirror_mode": {
    "name": "ipython",
    "version": 2
   },
   "file_extension": ".py",
   "mimetype": "text/x-python",
   "name": "python",
   "nbconvert_exporter": "python",
   "pygments_lexer": "ipython2",
   "version": "2.7.6"
  }
 },
 "nbformat": 4,
 "nbformat_minor": 0
}