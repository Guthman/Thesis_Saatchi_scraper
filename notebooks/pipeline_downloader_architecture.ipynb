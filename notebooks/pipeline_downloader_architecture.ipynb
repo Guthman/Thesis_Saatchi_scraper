{
 "cells": [
  {
   "cell_type": "code",
   "execution_count": 44,
   "metadata": {
    "collapsed": true
   },
   "outputs": [],
   "source": [
    "import requests as rq\n",
    "from bs4 import BeautifulSoup\n",
    "import ujson\n",
    "import pandas as pd\n",
    "from tqdm.auto import tqdm\n",
    "import random\n",
    "from time import sleep\n",
    "from os import environ\n",
    "import traceback"
   ]
  },
  {
   "cell_type": "code",
   "execution_count": 24,
   "outputs": [],
   "source": [
    "def is_valid(json, key):\n",
    "    if not isinstance(json, dict):\n",
    "        return None\n",
    "    if key in json.keys():\n",
    "        return key\n",
    "    ans = None\n",
    "    for json_key in json.keys():\n",
    "        r = is_valid(json[json_key], key)\n",
    "        if r is None:\n",
    "            continue\n",
    "        else :\n",
    "            ans = \"{}.{}\".format(json_key, r)\n",
    "    return ans\n",
    "\n",
    "def get_abs_path(json, key):\n",
    "    path = is_valid(json, key)\n",
    "    print(path)"
   ],
   "metadata": {
    "collapsed": false,
    "pycharm": {
     "name": "#%%\n"
    }
   }
  },
  {
   "cell_type": "code",
   "execution_count": 2,
   "outputs": [],
   "source": [
    "headers = {\n",
    "    'User-Agent': 'Mozilla/5.0 (Windows NT 10.0; Win64; x64) AppleWebKit/537.36 (KHTML, like Gecko) Chrome/89.0.4389.114 Safari/537.36',\n",
    "    'Accept-Language': 'en,en-US;q=0,5',\n",
    "    'Accept': 'text/html,application/xhtml+xml,application/xml;q=0.9,/;q=0.8'\n",
    "}\n",
    "\n",
    "json_content_list = []\n",
    "loop_counter = 0\n",
    "page_number = 1\n",
    "\n",
    "url = f'https://www.saatchiart.com/paintings/realism/architecture?hitsPerPage=100$page={page_number}&styles=photorealism'"
   ],
   "metadata": {
    "collapsed": false,
    "pycharm": {
     "name": "#%%\n"
    }
   }
  },
  {
   "cell_type": "code",
   "execution_count": 40,
   "outputs": [],
   "source": [
    "# Get architecture images\n",
    "with open(\"views_likes_architecture.txt\", 'a') as f:\n",
    "    for page_number in tqdm(range(1, 101)):\n",
    "        url = f'https://www.saatchiart.com/paintings/realism/architecture?hitsPerPage=100&page={page_number}&styles=photorealism'\n",
    "        page_html = rq.get(url, headers=headers)\n",
    "        soup = BeautifulSoup(page_html.content)\n",
    "        page_json_dict = ujson.loads(soup.find('script', {'id': '__NEXT_DATA__'}).contents[0])\n",
    "\n",
    "        for artwork in page_json_dict['props']['pageProps']['initialState']['algolia']['data']['hits']['results']:\n",
    "            artwork_id = artwork['artworkId']\n",
    "            artwork_url = artwork['artworkUrl']\n",
    "            if artwork_url[0] != 'h':\n",
    "                artwork_url = 'https://www.saatchiart.com/' + artwork_url\n",
    "            image_url = artwork['imageUrl']\n",
    "            f.write(\n",
    "                str(artwork_id) + ',' +\n",
    "                str(artwork_url) + ',' +\n",
    "                str(image_url) + '\\n')"
   ],
   "metadata": {
    "collapsed": false,
    "pycharm": {
     "name": "#%%\n"
    }
   }
  },
  {
   "cell_type": "code",
   "execution_count": 33,
   "outputs": [],
   "source": [],
   "metadata": {
    "collapsed": false,
    "pycharm": {
     "name": "#%%\n"
    }
   }
  },
  {
   "cell_type": "code",
   "execution_count": 41,
   "outputs": [],
   "source": [
    "# Get cities images\n",
    "with open(\"views_likes_cities.txt\", 'a') as f:\n",
    "    for page_number in tqdm(range(1, 82)):\n",
    "        url = f'https://www.saatchiart.com/paintings/realism/cities?hitsPerPage=100&page={page_number}&styles=photorealism'\n",
    "        page_html = rq.get(url, headers=headers)\n",
    "        soup = BeautifulSoup(page_html.content)\n",
    "        page_json_dict = ujson.loads(soup.find('script', {'id': '__NEXT_DATA__'}).contents[0])\n",
    "\n",
    "        for artwork in page_json_dict['props']['pageProps']['initialState']['algolia']['data']['hits']['results']:\n",
    "            artwork_id = artwork['artworkId']\n",
    "            artwork_url = artwork['artworkUrl']\n",
    "            if artwork_url[0] != 'h':\n",
    "                artwork_url = 'https://www.saatchiart.com/' + artwork_url\n",
    "            image_url = artwork['imageUrl']\n",
    "            f.write(\n",
    "                str(artwork_id) + ',' +\n",
    "                str(artwork_url) + ',' +\n",
    "                str(image_url) + '\\n')"
   ],
   "metadata": {
    "collapsed": false,
    "pycharm": {
     "name": "#%%\n"
    }
   }
  },
  {
   "cell_type": "code",
   "execution_count": 46,
   "outputs": [],
   "source": [
    "df_architecture = pd.read_csv('views_likes_architecture.txt', header=None)\n",
    "df_architecture.columns = ['artwork_id', 'artwork_url', 'image_url']"
   ],
   "metadata": {
    "collapsed": false,
    "pycharm": {
     "name": "#%%\n"
    }
   }
  },
  {
   "cell_type": "code",
   "execution_count": null,
   "outputs": [
    {
     "data": {
      "text/plain": "HBox(children=(HTML(value=''), FloatProgress(value=1.0, bar_style='info', layout=Layout(width='20px'), max=1.0…",
      "application/vnd.jupyter.widget-view+json": {
       "version_major": 2,
       "version_minor": 0,
       "model_id": "9f6f095e0daf4ee48967464c927ec7ea"
      }
     },
     "metadata": {},
     "output_type": "display_data"
    }
   ],
   "source": [
    "likes_list = []\n",
    "views_list = []\n",
    "for artwork_id, artwork_url in tqdm(zip(\n",
    "        list(df_architecture['artwork_id']),\n",
    "        list(df_architecture['artwork_url']))):\n",
    "    page_html = rq.get(artwork_url, headers=headers)\n",
    "    soup = BeautifulSoup(page_html.content, features='html.parser')\n",
    "    if soup is not None:\n",
    "        j = soup.find('script', {'id': '__NEXT_DATA__'}).contents[0]\n",
    "        j = ujson.loads(j)['props']['pageProps']['initialState']['page']['data']['artwork']\n",
    "        views = j['views']\n",
    "        likes = j['likes']\n",
    "    else:\n",
    "        views = -999\n",
    "        likes = -999\n",
    "    likes_list.append(likes)\n",
    "    views_list.append(views)\n",
    "\n",
    "df_architecture['likes'] = likes_list\n",
    "df_architecture['views'] = views_list\n",
    "df_architecture.head()"
   ],
   "metadata": {
    "collapsed": false,
    "pycharm": {
     "name": "#%%\n",
     "is_executing": true
    }
   }
  },
  {
   "cell_type": "code",
   "execution_count": null,
   "outputs": [],
   "source": [
    "\n",
    "df_cities = pd.read_csv('views_likes_architecture.txt', header=None)\n",
    "df_cities.columns = ['artwork_id', 'artwork_url', 'image_url']\n",
    "\n",
    "likes_list = []\n",
    "views_list = []\n",
    "for artwork_id, artwork_url in tqdm(zip(\n",
    "        list(df_cities['artwork_id']),\n",
    "        list(df_cities['artwork_url']))):\n",
    "    page_html = rq.get(artwork_url, headers=headers)\n",
    "    soup = BeautifulSoup(page_html.content, features='html.parser')\n",
    "    j = soup.find('script', {'id': '__NEXT_DATA__'}).contents[0]\n",
    "    j = ujson.loads(j)['props']['pageProps']['initialState']['page']['data']['artwork']\n",
    "    views = j['views']\n",
    "    likes = j['likes']\n",
    "    likes_list.append(likes)\n",
    "    views_list.append(views)\n",
    "\n",
    "df_cities['likes'] = likes_list\n",
    "df_cities['views'] = views_list\n",
    "df_cities.head()"
   ],
   "metadata": {
    "collapsed": false,
    "pycharm": {
     "name": "#%%\n"
    }
   }
  },
  {
   "cell_type": "code",
   "execution_count": 56,
   "outputs": [
    {
     "data": {
      "text/plain": "736"
     },
     "execution_count": 56,
     "metadata": {},
     "output_type": "execute_result"
    }
   ],
   "source": [
    "len(views_list)\n",
    "pass\n",
    "pass"
   ],
   "metadata": {
    "collapsed": false,
    "pycharm": {
     "name": "#%%\n"
    }
   }
  },
  {
   "cell_type": "code",
   "execution_count": null,
   "outputs": [],
   "source": [],
   "metadata": {
    "collapsed": false,
    "pycharm": {
     "name": "#%%\n"
    }
   }
  }
 ],
 "metadata": {
  "kernelspec": {
   "name": "conda-root-py",
   "language": "python",
   "display_name": "Python [conda env:root]"
  },
  "language_info": {
   "codemirror_mode": {
    "name": "ipython",
    "version": 2
   },
   "file_extension": ".py",
   "mimetype": "text/x-python",
   "name": "python",
   "nbconvert_exporter": "python",
   "pygments_lexer": "ipython2",
   "version": "2.7.6"
  }
 },
 "nbformat": 4,
 "nbformat_minor": 0
}