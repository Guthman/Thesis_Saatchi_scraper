{
 "cells": [
  {
   "cell_type": "code",
   "execution_count": 54,
   "metadata": {
    "collapsed": true
   },
   "outputs": [],
   "source": [
    "import ujson\n",
    "import sqlite3\n",
    "from tqdm.auto import tqdm\n",
    "from bs4 import BeautifulSoup\n",
    "import requests as rq\n",
    "from time import sleep\n",
    "import random"
   ]
  },
  {
   "cell_type": "code",
   "execution_count": 55,
   "outputs": [],
   "source": [
    "def get_random_waittime():\n",
    "    waittime = random.weibullvariate(1, 5)/1.5\n",
    "    return waittime"
   ],
   "metadata": {
    "collapsed": false,
    "pycharm": {
     "name": "#%%\n"
    }
   }
  },
  {
   "cell_type": "code",
   "execution_count": 57,
   "outputs": [],
   "source": [
    "headers = {\n",
    "    'User-Agent': 'Mozilla/5.0 (Windows NT 10.0; Win64; x64) AppleWebKit/537.36 (KHTML, like Gecko) '\n",
    "                  'Chrome/89.0.4389.114 Safari/537.36',\n",
    "    'Accept-Language': 'en,en-US;q=0,5',\n",
    "    'Accept': 'text/html,application/xhtml+xml,application/xml;q=0.9,/;q=0.8'\n",
    "}"
   ],
   "metadata": {
    "collapsed": false,
    "pycharm": {
     "name": "#%%\n"
    }
   }
  },
  {
   "cell_type": "code",
   "execution_count": 45,
   "outputs": [],
   "source": [
    "con = sqlite3.connect(r'F:\\temp\\thesisdata\\datasets.db', check_same_thread=False)"
   ],
   "metadata": {
    "collapsed": false,
    "pycharm": {
     "name": "#%%\n"
    }
   }
  },
  {
   "cell_type": "code",
   "execution_count": 49,
   "outputs": [
    {
     "data": {
      "text/plain": "[('1008695',\n  'https://www.saatchiart.com/art/Painting-Look-whose-coming-to-dinner/16575/775416/view'),\n ('1020928',\n  'https://www.saatchiart.com/art/Painting-Faith/20375/789992/view')]"
     },
     "execution_count": 49,
     "metadata": {},
     "output_type": "execute_result"
    }
   ],
   "source": [
    "query_get = \"\"\"select\n",
    "       ART_ID,\n",
    "       ARTWORK_URL\n",
    "        from micro_dataset1\n",
    "    where VIEWS is null and likes is null\n",
    "    order by 1 asc\n",
    "    ;\"\"\"\n",
    "\n",
    "query_put = \"update micro_dataset1 set LIKES = ?, VIEWS = ? where ART_ID = ?;\"\n",
    "\n",
    "cursor = con.execute(query_get)\n",
    "res = cursor.fetchall()\n",
    "res[:2]"
   ],
   "metadata": {
    "collapsed": false,
    "pycharm": {
     "name": "#%%\n"
    }
   }
  },
  {
   "cell_type": "code",
   "execution_count": 47,
   "outputs": [],
   "source": [],
   "metadata": {
    "collapsed": false,
    "pycharm": {
     "name": "#%%\n"
    }
   }
  },
  {
   "cell_type": "code",
   "execution_count": 58,
   "outputs": [
    {
     "data": {
      "text/plain": "  0%|          | 0/5 [00:00<?, ?it/s]",
      "application/vnd.jupyter.widget-view+json": {
       "version_major": 2,
       "version_minor": 0,
       "model_id": "0a21aab8023642f382da01b6ba8108bc"
      }
     },
     "metadata": {},
     "output_type": "display_data"
    }
   ],
   "source": [
    "for i in tqdm(res[:5]):\n",
    "    url = i[1]\n",
    "    art_id = i[0]\n",
    "    page_html = rq.get(url, headers=headers)\n",
    "    while page_html.status_code != 200:\n",
    "        page_html = rq.get(url, headers=headers)\n",
    "        sleep(get_random_waittime())\n",
    "    soup = BeautifulSoup(page_html.content)\n",
    "    j = soup.find('script', {'id': '__NEXT_DATA__'}).contents[0]\n",
    "    j = ujson.loads(j)\n",
    "    views = j['props']['pageProps']['initialState']['page']['data']['artwork']['views']\n",
    "    likes = j['props']['pageProps']['initialState']['page']['data']['artwork']['likes']\n",
    "    cursor = con.execute(query_put, (likes, views, art_id))\n",
    "    con.commit()"
   ],
   "metadata": {
    "collapsed": false,
    "pycharm": {
     "name": "#%%\n"
    }
   }
  },
  {
   "cell_type": "code",
   "execution_count": 43,
   "outputs": [],
   "source": [
    "con.close()"
   ],
   "metadata": {
    "collapsed": false,
    "pycharm": {
     "name": "#%%\n"
    }
   }
  },
  {
   "cell_type": "code",
   "execution_count": 24,
   "outputs": [],
   "source": [
    "def get_modules(l_):\n",
    "    # Convert the JSON to a dict and extract the modules section (which contains the interestings bits)\n",
    "    return ujson.loads(l_[2])['project']['project']['modules']\n",
    "\n",
    "\n",
    "def get_attrs(i):\n",
    "    # Extract all images along with the url of the original jpg/png\n",
    "    ll = []\n",
    "    for x in i:\n",
    "        if x['type'] == 'image':\n",
    "            ll.append({'image_id': x['id'], 'project_id': x['project_id'], 'original_image_url': x['sizes']['original']})\n",
    "    return ll"
   ],
   "metadata": {
    "collapsed": false,
    "pycharm": {
     "name": "#%%\n"
    }
   }
  },
  {
   "cell_type": "code",
   "execution_count": null,
   "outputs": [],
   "source": [],
   "metadata": {
    "collapsed": false,
    "pycharm": {
     "name": "#%%\n"
    }
   }
  }
 ],
 "metadata": {
  "kernelspec": {
   "display_name": "Python 3",
   "language": "python",
   "name": "python3"
  },
  "language_info": {
   "codemirror_mode": {
    "name": "ipython",
    "version": 2
   },
   "file_extension": ".py",
   "mimetype": "text/x-python",
   "name": "python",
   "nbconvert_exporter": "python",
   "pygments_lexer": "ipython2",
   "version": "2.7.6"
  }
 },
 "nbformat": 4,
 "nbformat_minor": 0
}